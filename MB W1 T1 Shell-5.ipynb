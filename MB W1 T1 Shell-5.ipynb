{
 "cells": [
  {
   "cell_type": "code",
   "execution_count": null,
   "metadata": {},
   "outputs": [],
   "source": [
    "import subprocess\n",
    "%matplotlib inline\n",
    "try:\n",
    "    from utils import *\n",
    "except:\n",
    "    pass\n",
    "import otter\n",
    "grader = otter.Notebook()"
   ]
  },
  {
   "cell_type": "markdown",
   "metadata": {},
   "source": [
    "# B | Week 1: Practice UNIX & The Shell \n",
    "\n",
    "------\n",
    "\n",
    "### Instructions:\n",
    "\n",
    "- Complete 50 points worth of questions to pass the assessment\n",
    "  - You can attempt any number of questions and in any order provided you pass at least 50 points.\n",
    "- These questions should be attempted in a Unix Shell\n",
    "- Once you've tested your answer in the shell, write/paste it in the space provided.\n",
    "  - Do not remove the `'''` or other provided markings from the answer spaces.\n",
    "  - Do not make any changes to this notebook outside of the answer spaces provided.\n",
    "\n",
    "For more information, see the assessment page."
   ]
  },
  {
   "cell_type": "markdown",
   "metadata": {},
   "source": [
    "#### Question 01 &nbsp;&nbsp;&nbsp;&nbsp;&nbsp;&nbsp;(2 Points)\n",
    "Write a Shell command to display a message `foo` in the Shell."
   ]
  },
  {
   "cell_type": "code",
   "execution_count": 2,
   "metadata": {
    "tags": []
   },
   "outputs": [],
   "source": [
    "answer01 = '''\n",
    "# Write your solution here\n",
    "echo \"foo\"\n",
    "\n",
    "'''\n"
   ]
  },
  {
   "cell_type": "markdown",
   "metadata": {},
   "source": [
    "#### Question 02 &nbsp;&nbsp;&nbsp;&nbsp;&nbsp;&nbsp;(2 Points) \n",
    "Write a Shell command to display a message `Hello World!` in the Shell. Be sure to include any spaces."
   ]
  },
  {
   "cell_type": "code",
   "execution_count": null,
   "metadata": {
    "tags": []
   },
   "outputs": [],
   "source": [
    "answer02 = '''\n",
    "# Write your solution here\n",
    "echo \"Hello World!\"\n",
    "'''"
   ]
  },
  {
   "cell_type": "markdown",
   "metadata": {},
   "source": [
    "#### Question 03 &nbsp;&nbsp;&nbsp;&nbsp;&nbsp;&nbsp;(2 Points) \n",
    "Write a Shell command to display the path to the current working directory in the Shell."
   ]
  },
  {
   "cell_type": "code",
   "execution_count": null,
   "metadata": {
    "tags": []
   },
   "outputs": [],
   "source": [
    "answer03 = '''\n",
    "# Write your solution here\n",
    "pwd \n",
    "'''"
   ]
  },
  {
   "cell_type": "markdown",
   "metadata": {},
   "source": [
    "#### Question 04 &nbsp;&nbsp;&nbsp;&nbsp;&nbsp;&nbsp;(2 Points)\n",
    "Write a Shell command to list the contents of the current working directory in the Shell."
   ]
  },
  {
   "cell_type": "code",
   "execution_count": null,
   "metadata": {
    "tags": []
   },
   "outputs": [],
   "source": [
    "answer04 = '''\n",
    "# Write your solution here\n",
    "ls\n",
    "'''"
   ]
  },
  {
   "cell_type": "markdown",
   "metadata": {},
   "source": [
    "#### Question 05 &nbsp;&nbsp;&nbsp;&nbsp;&nbsp;&nbsp;(2 Points)\n",
    "Write a Shell command to navigate to the parent directory of the current working directory."
   ]
  },
  {
   "cell_type": "code",
   "execution_count": null,
   "metadata": {
    "tags": []
   },
   "outputs": [],
   "source": [
    "answer05 = '''\n",
    "# Write your solution here\n",
    "cd..\n",
    "'''"
   ]
  },
  {
   "cell_type": "markdown",
   "metadata": {},
   "source": [
    "#### Question 06 &nbsp;&nbsp;&nbsp;&nbsp;&nbsp;&nbsp;(4 Points) \n",
    "Write a Shell command to create a directory named `dir6` in the current working directory, then another command to navigate the shell to that directory\n"
   ]
  },
  {
   "cell_type": "code",
   "execution_count": null,
   "metadata": {
    "tags": []
   },
   "outputs": [],
   "source": [
    "answer06 = '''\n",
    "# Write your solution here\n",
    "mkdir dir6\n",
    "'''"
   ]
  },
  {
   "cell_type": "markdown",
   "metadata": {},
   "source": [
    "#### Question 07 &nbsp;&nbsp;&nbsp;&nbsp;&nbsp;&nbsp;(4 Points) \n",
    "Write a Shell command to create a file named `flie7` in the current working directory, then another command to correct our spelling error (rename that file to `file7`)"
   ]
  },
  {
   "cell_type": "code",
   "execution_count": null,
   "metadata": {
    "tags": []
   },
   "outputs": [],
   "source": [
    "answer07 = '''\n",
    "# Write your solution here\n",
    "touch flie7\n",
    "ls\n",
    "'''"
   ]
  },
  {
   "cell_type": "markdown",
   "metadata": {},
   "source": [
    "#### Question 08 &nbsp;&nbsp;&nbsp;&nbsp;&nbsp;&nbsp;(4 Points)  \n",
    "Create a folder named dir8 in the current working directory containing one or more files, then write a Shell command to copy `dir8` and its contents to a new folder named `dir8_copy` in the current working directory.\n",
    "\n",
    "Note: you only need to include the copy command in your answer."
   ]
  },
  {
   "cell_type": "code",
   "execution_count": null,
   "metadata": {
    "tags": []
   },
   "outputs": [],
   "source": [
    "answer08 = '''\n",
    "# Write your solution here\n",
    "mkdir dir8\n",
    "touch dir8/file8\n",
    "ls\n",
    "cp -r dir8 dir8_copy\n",
    "ls\n",
    "'''"
   ]
  },
  {
   "cell_type": "markdown",
   "metadata": {},
   "source": [
    "#### Question 09 &nbsp;&nbsp;&nbsp;&nbsp;&nbsp;&nbsp;(4 Points) \n",
    "Write shell commands to create the following directory/file structure in the working directory:\n",
    "```\n",
    ".\n",
    "└── dir9\n",
    "    └── dir9_2\n",
    "        └── dir9_3\n",
    "            └── foo\n",
    "\n",
    "```"
   ]
  },
  {
   "cell_type": "code",
   "execution_count": null,
   "metadata": {
    "tags": []
   },
   "outputs": [],
   "source": [
    "answer09 = '''\n",
    "# Write your solution here\n",
    "mkdir dir9\n",
    "mkdir dir9/dir9_2\n",
    "mkdir dir9/dir9_2/dir9_3\n",
    "touch dir9/dir9_2/dir9_3/foo\n",
    "ls\n",
    "'''"
   ]
  },
  {
   "cell_type": "markdown",
   "metadata": {},
   "source": [
    "#### Question 10 &nbsp;&nbsp;&nbsp;&nbsp;&nbsp;&nbsp;(4 Points)\n",
    "Using the file/directory structure from Question 9, write shell commands to move the directory `dir9_3` and its contents to `dir9`:\n",
    "```\n",
    ".\n",
    "└── dir9\n",
    "    ├── dir9_2\n",
    "    └── dir9_3\n",
    "        └── foo\n",
    "\n",
    "```"
   ]
  },
  {
   "cell_type": "code",
   "execution_count": null,
   "metadata": {
    "tags": []
   },
   "outputs": [],
   "source": [
    "answer10 = '''\n",
    "# Write your solution here\n",
    "cp -r dir9/dir9_2/dir9_3/\n",
    "touch dir9/dir9_3/touch \n",
    "ls\n",
    "\n",
    "'''"
   ]
  },
  {
   "cell_type": "markdown",
   "metadata": {},
   "source": [
    "#### Question 11 &nbsp;&nbsp;&nbsp;&nbsp;&nbsp;&nbsp;(8 Points)\n",
    "Write a **single** command to create the following directory structure in the working directory:\n",
    "```\n",
    ".\n",
    "└── dir11\n",
    "    └── dir11_2\n",
    "        └── dir11_3\n",
    "            └── dir11_4\n",
    "\n",
    "```"
   ]
  },
  {
   "cell_type": "code",
   "execution_count": null,
   "metadata": {
    "tags": []
   },
   "outputs": [],
   "source": [
    "answer11 = '''\n",
    "# Write your solution here\n",
    "mkdir –p dir11/dir11_2/dir11_3/dir11_4\n",
    "ls\n",
    "'''"
   ]
  },
  {
   "cell_type": "markdown",
   "metadata": {},
   "source": [
    "#### Question 12 &nbsp;&nbsp;&nbsp;&nbsp;&nbsp;&nbsp;(8 Points)\n",
    "Write shell commands to create the following directory/file structure in the working directory:\n",
    "```\n",
    ".\n",
    "└── dir12\n",
    "    └── dir12_2\n",
    "        └── dir12_3\n",
    "            └── foo\n",
    "\n",
    "```\n",
    "Then write Shell commands to copy `dir12_3` and ALL of its contents to match the following directory/file structure:\n",
    "```\n",
    ".\n",
    "└── dir12\n",
    "    ├── dir12_2\n",
    "    │   └── dir12_3\n",
    "    │       └── foo\n",
    "    └── dir12_3_copy\n",
    "        └── foo\n",
    "```"
   ]
  },
  {
   "cell_type": "code",
   "execution_count": null,
   "metadata": {
    "tags": []
   },
   "outputs": [],
   "source": [
    "answer12 = '''\n",
    "# Write your solution here\n",
    "mkdir –p dir12/dir12_2/dir12_3\n",
    "touch dir12/dir12_2/dir12_3/foo\n",
    "cat dir12\n",
    "cp -r dir12_3 dir12_3_cope\n",
    "ls\n",
    "'''"
   ]
  },
  {
   "cell_type": "markdown",
   "metadata": {},
   "source": [
    "#### Question 13 &nbsp;&nbsp;&nbsp;&nbsp;&nbsp;&nbsp;(8 Points)\n",
    "Navigate your terminal to the following folders. Print the path of each directory as you navigate to them:\n",
    "- The directory 2 levels above the current working directory (i.e. the parent directory's parent directory)\n",
    "- The current user's home directory (should work for any user, not just you)\n",
    "- The root directory\n",
    "- `/usr`"
   ]
  },
  {
   "cell_type": "code",
   "execution_count": null,
   "metadata": {
    "tags": []
   },
   "outputs": [],
   "source": [
    "answer13 = '''\n",
    "# Write your solution here\n",
    "$ cd shell_data\n",
    "$ ls\n",
    "'''"
   ]
  },
  {
   "cell_type": "markdown",
   "metadata": {},
   "source": [
    "#### Question 14 &nbsp;&nbsp;&nbsp;&nbsp;&nbsp;&nbsp;(8 Points)\n",
    "Write a single Shell command to list the contents of the current directory.\n",
    "- The output must include hidden files (files whose name begins with `.`)\n",
    "- The output must show detailed information about each file (such as size, permissions, etc)\n",
    "- The output must be ordered from largest file to smallest file\n",
    "\n",
    "Use the appriate help listing/man page to look up the appropriate options for the command."
   ]
  },
  {
   "cell_type": "code",
   "execution_count": null,
   "metadata": {
    "tags": []
   },
   "outputs": [],
   "source": [
    "answer14 = '''\n",
    "# Write your solution here\n",
    "ls\n",
    "sort by file size\n",
    "'''"
   ]
  },
  {
   "cell_type": "markdown",
   "metadata": {},
   "source": [
    "#### Question 15 &nbsp;&nbsp;&nbsp;&nbsp;&nbsp;&nbsp;(8 Points)\n",
    "Consider the following directory/file structure:\n",
    "```\n",
    ".\n",
    "├── dir15_1\n",
    "│   ├── foo\n",
    "│   └── bar\n",
    "└── dir15_2\n",
    "    ├── foo\n",
    "    ├── bar\n",
    "    └── baz\n",
    "\n",
    "```\n",
    "Write a single Shell command to copy the contents of `dir15_2` to `dir15_1`\n",
    "- The files from `dir15_2` should overwrite the files in `dir15_1`, but only if they are newer\n",
    "- The timestamps and ownership information of the files being copied should be preserved\n",
    "\n",
    "Use the appriate help listing/man page to look up the appropriate options for the command."
   ]
  },
  {
   "cell_type": "code",
   "execution_count": null,
   "metadata": {
    "tags": []
   },
   "outputs": [],
   "source": [
    "answer15 = '''\n",
    "# Write your solution here\n",
    "mkdir dir15_1\n",
    "touch dir15_1/foo\n",
    "touch dir15_1/bar\n",
    "mkdir dir15_2\n",
    "touch dir15_2/foo\n",
    "touch dir15_2/bar\n",
    "touch dir15_2/baz\n",
    "'''"
   ]
  },
  {
   "cell_type": "markdown",
   "metadata": {},
   "source": [
    "#### Question 16 &nbsp;&nbsp;&nbsp;&nbsp;&nbsp;&nbsp;(16 Points)\n",
    "Write shell commands to create the following directory/file structure in the working directory:\n",
    "```\n",
    ".\n",
    "└── dir16_1\n",
    "    ├── dir16_2\n",
    "    │   ├── dir16_3\n",
    "    │   │   └── dir16_4\n",
    "    │   │       └── file16_3\n",
    "    │   └── file16_2\n",
    "    ├── dir16_5\n",
    "    │   ├── file16_4\n",
    "    │   └── file16_5\n",
    "    └── file16_1\n",
    "\n",
    "```\n",
    "Then write Shell commands to copy, move, rename, and delete the files and directories to match the following directory/file structure:\n",
    "```\n",
    ".\n",
    "├── dir16_1\n",
    "│   ├── dir16_2\n",
    "│   │   ├── dir16_3\n",
    "│   │   ├── dir16_4\n",
    "│   │   │   └── file16_3\n",
    "│   │   └── file16_2_renamed\n",
    "│   ├── dir16_5\n",
    "│   │   └── file16_5\n",
    "│   └── file16_1\n",
    "└── dir16_1_copy\n",
    "    ├── dir16_2\n",
    "    │   ├── dir16_3\n",
    "    │   │   └── dir16_4\n",
    "    │   │       └── file16_3\n",
    "    │   └── file16_2\n",
    "    └── file16_1\n",
    "\n",
    "```"
   ]
  },
  {
   "cell_type": "code",
   "execution_count": null,
   "metadata": {
    "tags": []
   },
   "outputs": [],
   "source": [
    "answer16 = '''\n",
    "# Write your solution here\n",
    "mkdir –p dir16_1/dir16_2/dir16_3/dir16_4\n",
    "touch dir16_1/dir16_2/dir16_3/dir16_4/file16_3\n",
    "cat dir16_2\n",
    "touch dir16_1/dir16_2/file16_2\n",
    "mkdir -p file16_5/dir16_5/dir16_1\n",
    "cat dir16_1\n",
    "mkdir dir16_1/dir16_5\n",
    "touch dir16_1/dir16_5/file16_5\n",
    "touch dir16_1/dir16_5/file16_4\n",
    "cp dir16_1 dir16_1_copy\n",
    "cat dir16_1_copy\n",
    "rm -r dir16_1/dir16_5\n",
    "cat dir16_1\n",
    "touch dir16_1/file16_1\n",
    "mv file16_2 file16_2_renamed\n",
    "mv dir16_1/dir16_5 dir16_1/dir16_2/dir16_5\n",
    "\n",
    "'''"
   ]
  }
 ],
 "metadata": {
  "celltoolbar": "Edit Metadata",
  "kernelspec": {
   "display_name": "Python 3",
   "language": "python",
   "name": "python3"
  },
  "language_info": {
   "codemirror_mode": {
    "name": "ipython",
    "version": 3
   },
   "file_extension": ".py",
   "mimetype": "text/x-python",
   "name": "python",
   "nbconvert_exporter": "python",
   "pygments_lexer": "ipython3",
   "version": "3.8.8"
  },
  "otter": {
   "tests": {
    "Question 01": {
     "name": "Question 01",
     "points": 2,
     "suites": [
      {
       "cases": [],
       "scored": true,
       "setup": "",
       "teardown": "",
       "type": "doctest"
      }
     ]
    },
    "Question 02": {
     "name": "Question 02",
     "points": 2,
     "suites": [
      {
       "cases": [],
       "scored": true,
       "setup": "",
       "teardown": "",
       "type": "doctest"
      }
     ]
    },
    "Question 03": {
     "name": "Question 03",
     "points": 2,
     "suites": [
      {
       "cases": [],
       "scored": true,
       "setup": "",
       "teardown": "",
       "type": "doctest"
      }
     ]
    },
    "Question 04": {
     "name": "Question 04",
     "points": 2,
     "suites": [
      {
       "cases": [],
       "scored": true,
       "setup": "",
       "teardown": "",
       "type": "doctest"
      }
     ]
    },
    "Question 05": {
     "name": "Question 05",
     "points": 2,
     "suites": [
      {
       "cases": [],
       "scored": true,
       "setup": "",
       "teardown": "",
       "type": "doctest"
      }
     ]
    },
    "Question 06": {
     "name": "Question 06",
     "points": 4,
     "suites": [
      {
       "cases": [],
       "scored": true,
       "setup": "",
       "teardown": "",
       "type": "doctest"
      }
     ]
    },
    "Question 07": {
     "name": "Question 07",
     "points": 4,
     "suites": [
      {
       "cases": [],
       "scored": true,
       "setup": "",
       "teardown": "",
       "type": "doctest"
      }
     ]
    },
    "Question 08": {
     "name": "Question 08",
     "points": 4,
     "suites": [
      {
       "cases": [],
       "scored": true,
       "setup": "",
       "teardown": "",
       "type": "doctest"
      }
     ]
    },
    "Question 09": {
     "name": "Question 09",
     "points": 4,
     "suites": [
      {
       "cases": [],
       "scored": true,
       "setup": "",
       "teardown": "",
       "type": "doctest"
      }
     ]
    },
    "Question 10": {
     "name": "Question 10",
     "points": 4,
     "suites": [
      {
       "cases": [],
       "scored": true,
       "setup": "",
       "teardown": "",
       "type": "doctest"
      }
     ]
    },
    "Question 11": {
     "name": "Question 11",
     "points": 8,
     "suites": [
      {
       "cases": [],
       "scored": true,
       "setup": "",
       "teardown": "",
       "type": "doctest"
      }
     ]
    },
    "Question 12": {
     "name": "Question 12",
     "points": 8,
     "suites": [
      {
       "cases": [],
       "scored": true,
       "setup": "",
       "teardown": "",
       "type": "doctest"
      }
     ]
    },
    "Question 13": {
     "name": "Question 13",
     "points": 8,
     "suites": [
      {
       "cases": [],
       "scored": true,
       "setup": "",
       "teardown": "",
       "type": "doctest"
      }
     ]
    },
    "Question 14": {
     "name": "Question 14",
     "points": 8,
     "suites": [
      {
       "cases": [],
       "scored": true,
       "setup": "",
       "teardown": "",
       "type": "doctest"
      }
     ]
    },
    "Question 15": {
     "name": "Question 15",
     "points": 8,
     "suites": [
      {
       "cases": [],
       "scored": true,
       "setup": "",
       "teardown": "",
       "type": "doctest"
      }
     ]
    },
    "Question 16": {
     "name": "Question 16",
     "points": 16,
     "suites": [
      {
       "cases": [],
       "scored": true,
       "setup": "",
       "teardown": "",
       "type": "doctest"
      }
     ]
    }
   }
  },
  "varInspector": {
   "cols": {
    "lenName": 16,
    "lenType": 16,
    "lenVar": 40
   },
   "kernels_config": {
    "python": {
     "delete_cmd_postfix": "",
     "delete_cmd_prefix": "del ",
     "library": "var_list.py",
     "varRefreshCmd": "print(var_dic_list())"
    },
    "r": {
     "delete_cmd_postfix": ") ",
     "delete_cmd_prefix": "rm(",
     "library": "var_list.r",
     "varRefreshCmd": "cat(var_dic_list()) "
    }
   },
   "types_to_exclude": [
    "module",
    "function",
    "builtin_function_or_method",
    "instance",
    "_Feature"
   ],
   "window_display": false
  }
 },
 "nbformat": 4,
 "nbformat_minor": 4
}
